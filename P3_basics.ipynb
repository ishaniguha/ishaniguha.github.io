{
  "nbformat": 4,
  "nbformat_minor": 0,
  "metadata": {
    "colab": {
      "name": "P3 basics.ipynb",
      "provenance": [],
      "authorship_tag": "ABX9TyMCxSqBHPmh8Q/hGfn/GmmK",
      "include_colab_link": true
    },
    "kernelspec": {
      "name": "python3",
      "display_name": "Python 3"
    },
    "language_info": {
      "name": "python"
    }
  },
  "cells": [
    {
      "cell_type": "markdown",
      "metadata": {
        "id": "view-in-github",
        "colab_type": "text"
      },
      "source": [
        "<a href=\"https://colab.research.google.com/github/ishaniguha/ishaniguha.github.io/blob/master/P3_basics.ipynb\" target=\"_parent\"><img src=\"https://colab.research.google.com/assets/colab-badge.svg\" alt=\"Open In Colab\"/></a>"
      ]
    },
    {
      "cell_type": "code",
      "metadata": {
        "colab": {
          "base_uri": "https://localhost:8080/"
        },
        "id": "IC-036RJkg1z",
        "outputId": "1b78728d-d940-40a6-b12b-f914b44bc3b3"
      },
      "source": [
        "name = input('Name: ')\n",
        "print('Hello ' + name + '!')\n",
        "'Hello ' + name #variables, strings dont work without \"print\"\n",
        "#Data Types\n",
        "#int (integer) and float (floating point number)\n",
        "2 + 4 #works even without \"print\"\n",
        "print(2 + 4)\n",
        "print(2 - 4)\n",
        "print(2 / 4)\n",
        "print(2 * 4)\n",
        "print(type(2 + 4))\n",
        "print(type(2 - 4))\n",
        "print(type(2 / 4))\n",
        "print(type(2 // 4)) #'double slash' divident\n",
        "print(type(2 % 4)) #'modulo' remainder\n",
        "\n",
        "#Functions are ACTIONS that we can perform on Data Types\n",
        "\n",
        "#math functions; Google them to find them!\n",
        "print(round(3.14)) #works without print\n",
        "print(abs(-3.14))\n"
      ],
      "execution_count": null,
      "outputs": [
        {
          "output_type": "stream",
          "name": "stdout",
          "text": [
            "Name: Aydin\n",
            "Hello Aydin!\n",
            "6\n",
            "-2\n",
            "0.5\n",
            "8\n",
            "<class 'int'>\n",
            "<class 'int'>\n",
            "<class 'float'>\n",
            "<class 'int'>\n",
            "<class 'int'>\n",
            "3\n",
            "3.14\n"
          ]
        }
      ]
    },
    {
      "cell_type": "code",
      "metadata": {
        "colab": {
          "base_uri": "https://localhost:8080/"
        },
        "id": "GddOAEQP-2TU",
        "outputId": "4e81f092-395f-4667-8524-be3e7a9ba270"
      },
      "source": [
        "#operator precedence\n",
        "#()\n",
        "#**\n",
        "#* /\n",
        "#+ -\n",
        "\n",
        "#Exercises\n",
        "print((5 + 4) * 10 / 2) #45.0\n",
        "\n",
        "print(((5 + 4) * 10) / 2) #45.0\n",
        "\n",
        "print((5 + 4) * (10 / 2)) #45.0\n",
        "\n",
        "print(5 + (4 * 10) / 2) #25.0\n",
        "\n",
        "print(5 + 4 * 10 // 2) #25"
      ],
      "execution_count": null,
      "outputs": [
        {
          "output_type": "stream",
          "name": "stdout",
          "text": [
            "45.0\n",
            "45.0\n",
            "45.0\n",
            "25.0\n",
            "25\n",
            "0b11000\n"
          ]
        }
      ]
    },
    {
      "cell_type": "code",
      "metadata": {
        "colab": {
          "base_uri": "https://localhost:8080/"
        },
        "id": "DxJwn1S4Q2GM",
        "outputId": "0bdc75ea-d1b6-4078-8d60-79a22e7f407e"
      },
      "source": [
        "#int str base\n",
        "\n",
        "print(bin(24))\n",
        "\n",
        "str1 = '0b11000' #str1 can't be converted to an integer of base other than 2, because of the \"0b\" prefix, which indicates a binary number in Python. \n",
        "\n",
        "day = int(str1, 2)\n",
        "print(day)\n",
        "\n",
        "str2 = '11000'\n",
        "date = int(str2, 2)\n",
        "print(date)\n",
        "date_of_birth = int(str2, 4)\n",
        "print(date_of_birth)"
      ],
      "execution_count": null,
      "outputs": [
        {
          "output_type": "stream",
          "name": "stdout",
          "text": [
            "0b11000\n",
            "24\n",
            "24\n",
            "320\n"
          ]
        }
      ]
    },
    {
      "cell_type": "code",
      "metadata": {
        "colab": {
          "base_uri": "https://localhost:8080/"
        },
        "id": "RUrwcxiensVW",
        "outputId": "d0fc98e9-df48-401f-95d4-0778736c2dd9"
      },
      "source": [
        "#augmented assignment operator\n",
        "basic = 24\n",
        "basic += 26 #basic = basic + 26\n",
        "print(basic)\n",
        "\n",
        "subtraction = 19\n",
        "subtraction -= 24 #subtraction = subtraction - 24\n",
        "print(subtraction)\n",
        "\n",
        "multiplication = 19 \n",
        "multiplication *= 5 #multiplication = multiplication * 5\n",
        "print(multiplication)"
      ],
      "execution_count": null,
      "outputs": [
        {
          "output_type": "stream",
          "name": "stdout",
          "text": [
            "50\n",
            "-5\n",
            "95\n"
          ]
        }
      ]
    },
    {
      "cell_type": "code",
      "metadata": {
        "colab": {
          "base_uri": "https://localhost:8080/"
        },
        "id": "pQYud2G6qPYp",
        "outputId": "04b1da6c-f99e-4e74-91ee-05602adad118"
      },
      "source": [
        "#strings: Data Type = str\n",
        "house_number = '687A'\n",
        "street_name = 'Block A'\n",
        "town_name = 'Lake Town'\n",
        "city_name = 'Kolkata'\n",
        "pin_code = '700089'\n",
        "address = house_number + ', ' + street_name + ', ' + town_name + ', ' + city_name + ', ' + pin_code\n",
        "print(address)\n",
        "\n",
        "#Address with input function\n",
        "house_number = input('House number = ')\n",
        "street_name = input('Street name = ')\n",
        "town_name = input('Town = ')\n",
        "city_name = input('City = ')\n",
        "pin_code = input('Pincode = ')\n",
        "address = house_number + ', ' + street_name + ', ' + town_name + ', ' + city_name + ', ' + pin_code\n",
        "print('Address for Correspondence: ' + address)"
      ],
      "execution_count": 3,
      "outputs": [
        {
          "output_type": "stream",
          "name": "stdout",
          "text": [
            "687A, Block A, Lake Town, Kolkata, 700089\n",
            "House number = 687A\n",
            "Street name = Block - A\n",
            "Town = Lake Town\n",
            "City = Kolkata\n",
            "Pincode = 700089\n",
            "Address for Correspondence: 687A, Block - A, Lake Town, Kolkata, 700089\n"
          ]
        }
      ]
    }
  ]
}
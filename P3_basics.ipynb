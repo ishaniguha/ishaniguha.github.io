{
  "nbformat": 4,
  "nbformat_minor": 0,
  "metadata": {
    "colab": {
      "name": "P3 basics.ipynb",
      "provenance": [],
      "authorship_tag": "ABX9TyObTTdWRkL5cITyuvYxkaHf",
      "include_colab_link": true
    },
    "kernelspec": {
      "name": "python3",
      "display_name": "Python 3"
    },
    "language_info": {
      "name": "python"
    }
  },
  "cells": [
    {
      "cell_type": "markdown",
      "metadata": {
        "id": "view-in-github",
        "colab_type": "text"
      },
      "source": [
        "<a href=\"https://colab.research.google.com/github/ishaniguha/ishaniguha.github.io/blob/master/P3_basics.ipynb\" target=\"_parent\"><img src=\"https://colab.research.google.com/assets/colab-badge.svg\" alt=\"Open In Colab\"/></a>"
      ]
    },
    {
      "cell_type": "code",
      "metadata": {
        "colab": {
          "base_uri": "https://localhost:8080/"
        },
        "id": "IC-036RJkg1z",
        "outputId": "e2172316-faba-491d-9a60-5b1c9cf08f79"
      },
      "source": [
        "name = input('Name: ')\n",
        "print('Hello ' + name + '!')\n",
        "'Hello ' + name #variables, strings dont work without \"print\"\n",
        "#Data Types\n",
        "#int (integer) and float (floating point number)\n",
        "2 + 4 #works even without \"print\"\n",
        "print(2 + 4)\n",
        "print(2 - 4)\n",
        "print(2 / 4)\n",
        "print(2 * 4)\n",
        "print(type(2 + 4))\n",
        "print(type(2 - 4))\n",
        "print(type(2 / 4))\n",
        "print(type(2 // 4)) #'double slash' divident\n",
        "print(type(2 % 4)) #'modulo' remainder\n",
        "\n",
        "#Functions are ACTIONS that we can perform on Data Types\n",
        "\n",
        "#math functions; Google them to find them!\n",
        "print(round(3.14)) #works without print\n",
        "print(abs(-3.14))\n"
      ],
      "execution_count": null,
      "outputs": [
        {
          "output_type": "stream",
          "name": "stdout",
          "text": [
            "Name: Freedom\n",
            "Hello Freedom!\n",
            "6\n",
            "-2\n",
            "0.5\n",
            "8\n",
            "<class 'int'>\n",
            "<class 'int'>\n",
            "<class 'float'>\n",
            "<class 'int'>\n",
            "<class 'int'>\n",
            "3\n",
            "3.14\n"
          ]
        }
      ]
    },
    {
      "cell_type": "code",
      "metadata": {
        "colab": {
          "base_uri": "https://localhost:8080/"
        },
        "id": "GddOAEQP-2TU",
        "outputId": "4e81f092-395f-4667-8524-be3e7a9ba270"
      },
      "source": [
        "#operator precedence\n",
        "#()\n",
        "#**\n",
        "#* /\n",
        "#+ -\n",
        "\n",
        "#Exercises\n",
        "print((5 + 4) * 10 / 2) #45.0\n",
        "\n",
        "print(((5 + 4) * 10) / 2) #45.0\n",
        "\n",
        "print((5 + 4) * (10 / 2)) #45.0\n",
        "\n",
        "print(5 + (4 * 10) / 2) #25.0\n",
        "\n",
        "print(5 + 4 * 10 // 2) #25"
      ],
      "execution_count": null,
      "outputs": [
        {
          "output_type": "stream",
          "name": "stdout",
          "text": [
            "45.0\n",
            "45.0\n",
            "45.0\n",
            "25.0\n",
            "25\n",
            "0b11000\n"
          ]
        }
      ]
    },
    {
      "cell_type": "code",
      "metadata": {
        "colab": {
          "base_uri": "https://localhost:8080/"
        },
        "id": "DxJwn1S4Q2GM",
        "outputId": "0bdc75ea-d1b6-4078-8d60-79a22e7f407e"
      },
      "source": [
        "#int str base\n",
        "\n",
        "print(bin(24))\n",
        "\n",
        "str1 = '0b11000' #str1 can't be converted to an integer of base other than 2, because of the \"0b\" prefix, which indicates a binary number in Python. \n",
        "\n",
        "day = int(str1, 2)\n",
        "print(day)\n",
        "\n",
        "str2 = '11000'\n",
        "date = int(str2, 2)\n",
        "print(date)\n",
        "date_of_birth = int(str2, 4)\n",
        "print(date_of_birth)"
      ],
      "execution_count": null,
      "outputs": [
        {
          "output_type": "stream",
          "name": "stdout",
          "text": [
            "0b11000\n",
            "24\n",
            "24\n",
            "320\n"
          ]
        }
      ]
    },
    {
      "cell_type": "code",
      "metadata": {
        "colab": {
          "base_uri": "https://localhost:8080/"
        },
        "id": "RUrwcxiensVW",
        "outputId": "d0fc98e9-df48-401f-95d4-0778736c2dd9"
      },
      "source": [
        "#augmented assignment operator\n",
        "basic = 24\n",
        "basic += 26 #basic = basic + 26\n",
        "print(basic)\n",
        "\n",
        "subtraction = 19\n",
        "subtraction -= 24 #subtraction = subtraction - 24\n",
        "print(subtraction)\n",
        "\n",
        "multiplication = 19 \n",
        "multiplication *= 5 #multiplication = multiplication * 5\n",
        "print(multiplication)"
      ],
      "execution_count": null,
      "outputs": [
        {
          "output_type": "stream",
          "name": "stdout",
          "text": [
            "50\n",
            "-5\n",
            "95\n"
          ]
        }
      ]
    },
    {
      "cell_type": "code",
      "metadata": {
        "colab": {
          "base_uri": "https://localhost:8080/"
        },
        "id": "pQYud2G6qPYp",
        "outputId": "cc193c81-0738-42a7-f357-14d786dabe43"
      },
      "source": [
        "#strings: Data Type = str #string concatenation\n",
        "house_number = '687A'\n",
        "street_name = 'Block A'\n",
        "town_name = 'Lake Town'\n",
        "city_name = 'Kolkata'\n",
        "pin_code = '700089'\n",
        "address = house_number + ', ' + street_name + ', ' + town_name + ', ' + city_name + ', ' + pin_code\n",
        "print(address)\n",
        "\n",
        "#Address with input function\n",
        "house_number = input('House number = ')\n",
        "street_name = input('Street name = ')\n",
        "town_name = input('Town = ')\n",
        "city_name = input('City = ')\n",
        "pin_code = input('Pincode = ')\n",
        "address = house_number + ', ' + street_name + ', ' + town_name + ', ' + city_name + ', ' + pin_code\n",
        "print('Address for Correspondence: ' + address)\n",
        "\n",
        "#A string cannot be concatenated with an integer or a float or anything that is not of type str."
      ],
      "execution_count": null,
      "outputs": [
        {
          "output_type": "stream",
          "name": "stdout",
          "text": [
            "687A, Block A, Lake Town, Kolkata, 700089\n",
            "House number = 13B\n",
            "Street name = Lalit Mitra Lane\n",
            "Town = Shyambazar\n",
            "City = Kolkata\n",
            "Pincode = 700089\n",
            "Address for Correspondence: 13B, Lalit Mitra Lane, Shyambazar, Kolkata, 700089\n"
          ]
        }
      ]
    },
    {
      "cell_type": "code",
      "metadata": {
        "colab": {
          "base_uri": "https://localhost:8080/"
        },
        "id": "onVhwZryMiYm",
        "outputId": "ed832289-6a39-409f-8ef0-0b821daf67ac"
      },
      "source": [
        "#str #multi line strings #type conversion #escape sequences\n",
        "print(type(\"some 4 word string\"))\n",
        "\n",
        "#multi line strings only work with three quotation marks, not one or two.\n",
        "#Moreover, within the '''...''' environment, '#' does not comment out text.\n",
        "multi_line_string = '''rhythm: \n",
        "trash\n",
        "smash\n",
        "crash\n",
        "splash'''\n",
        "print(multi_line_string)\n",
        "\n",
        "#type conversion\n",
        "a = 100\n",
        "b = str(100)\n",
        "c = int(b)\n",
        "d = 2 * c\n",
        "e = b + ' ' + 'percent germ free!'\n",
        "print(d)\n",
        "print(e)\n",
        "\n",
        "#Escape Sequences\n",
        "print('\\t Long years ago there was a town called \\\"It\\'s Nowhere\". \\n The people of It\\'s Nowhere had the same name, \\\"It\\'s Nobody\".' )"
      ],
      "execution_count": null,
      "outputs": [
        {
          "output_type": "stream",
          "name": "stdout",
          "text": [
            "<class 'str'>\n",
            "rhythm: \n",
            "trash\n",
            "smash\n",
            "crash\n",
            "splash\n",
            "200\n",
            "100 percent germ free!\n",
            "\t Long years ago there was a town called \"It's Nowhere\". \n",
            " The people of It's Nowhere had the same name, \"It's Nobody\".\n"
          ]
        }
      ]
    },
    {
      "cell_type": "code",
      "metadata": {
        "id": "sWOgN83KRleI",
        "colab": {
          "base_uri": "https://localhost:8080/"
        },
        "outputId": "11642ef6-2c3f-498a-edeb-22014afe01f3"
      },
      "source": [
        "#formatted strings\n",
        "#f-strings #Python3\n",
        "name = 'Ishani'\n",
        "number = 3\n",
        "print(f'I am {name}. I have {number} cats.') #there mustn't be any space between (f and the string following f.\n",
        "\n",
        "#dotformatstrings #Python2 #variations\n",
        "name = 'Ishani'\n",
        "number = 3\n",
        "print('I am {}. I have {} cats.'. format(name, number)) #dotformat1\n",
        "print('I am {0}. I have {1} cats.'.format(name, number)) #dotformat2\n",
        "print('I am {1}. I have {0} cats.'.format(name, number)) #dotformat3\n",
        "print('I am {}. I have {} cats.'.format(number, name)) #dotformat4\n",
        "print('I am {1}. I have {0} cats.'.format(number, name)) #dotformat5\n",
        "print('I am {name}. I have {number} cats.'.format(name = 'Aydin', number = 0)) #dotformat6\n",
        "print('I am {}. I have {} cats.'.format('Aydin', 0)) #dotformat7\n",
        "print('I am {1}. I have {0} cats.'.format('Aydin', 0)) #dotformat8\n",
        "print('I am {new_name}. I have {number} cats.'.format(new_name = 'Aydin', number = 0)) #dotformat9\n",
        "print('I am {}. I have {count} cats.'.format('Aydin', count = 0)) #dotformat10\n",
        "#print('I am {name}. I have {number} cats.'.format()) #doesn't work! #works in f-strings! #difference between fstrings and dotformatstrings #dotformat11\n",
        "\n",
        "#f-strings #variations\n",
        "print(f'I am {number}. I have {name} cats.') #fstring2\n",
        "#print(f'I am {name = 'Aydin'}. I have {number = 0} cats.') #these variations don't work in f-strings #less flexible about variable assignment?\n"
      ],
      "execution_count": 29,
      "outputs": [
        {
          "output_type": "stream",
          "name": "stdout",
          "text": [
            "I am Ishani. I have 3 cats.\n",
            "I am Ishani. I have 3 cats.\n",
            "I am Ishani. I have 3 cats.\n",
            "I am 3. I have Ishani cats.\n",
            "I am 3. I have Ishani cats.\n",
            "I am Ishani. I have 3 cats.\n",
            "I am Aydin. I have 0 cats.\n",
            "I am Aydin. I have 0 cats.\n",
            "I am 0. I have Aydin cats.\n",
            "I am Aydin. I have 0 cats.\n",
            "I am Aydin. I have 0 cats.\n",
            "I am 3. I have Ishani cats.\n"
          ]
        }
      ]
    }
  ]
}
{
  "nbformat": 4,
  "nbformat_minor": 0,
  "metadata": {
    "colab": {
      "provenance": [],
      "authorship_tag": "ABX9TyNb+C14xoHtezs/C7sve8Ml",
      "include_colab_link": true
    },
    "kernelspec": {
      "name": "python3",
      "display_name": "Python 3"
    },
    "language_info": {
      "name": "python"
    }
  },
  "cells": [
    {
      "cell_type": "markdown",
      "metadata": {
        "id": "view-in-github",
        "colab_type": "text"
      },
      "source": [
        "<a href=\"https://colab.research.google.com/github/ishaniguha/ishaniguha.github.io/blob/master/trial0.ipynb\" target=\"_parent\"><img src=\"https://colab.research.google.com/assets/colab-badge.svg\" alt=\"Open In Colab\"/></a>"
      ]
    },
    {
      "cell_type": "code",
      "execution_count": 25,
      "metadata": {
        "colab": {
          "base_uri": "https://localhost:8080/"
        },
        "id": "kw_EI39gWwGS",
        "outputId": "37e04f53-0bca-40fe-8c41-6d0088eb9178"
      },
      "outputs": [
        {
          "output_type": "stream",
          "name": "stdout",
          "text": [
            "He is 100 percent sweet.\n",
            "That is my girl!\n",
            "She is the sweetest.\n"
          ]
        }
      ],
      "source": [
        "cat = ['anku', 'gugu', 'polla']\n",
        "degree_of_sweetness = [100, 101, 102]\n",
        "def sweetness(cat):\n",
        "  for item in cat:\n",
        "    if item == 'anku':\n",
        "      for value in degree_of_sweetness:\n",
        "        if value == 100:\n",
        "          print('He is', value, 'percent sweet.')\n",
        "    elif item == 'gugu':\n",
        "      print('That is my girl!')\n",
        "    else:\n",
        "      print('She is the sweetest.')\n",
        "\n",
        "sweetness(cat)"
      ]
    },
    {
      "cell_type": "code",
      "source": [
        "cat = ['Gugu', 'Anku', 'Polla']\n",
        "age = [15, 10, 9]\n",
        "for baby in cat:\n",
        "  for number in age:\n",
        "    if baby == 'Gugu' and number == 15:\n",
        "      print(baby, 'is', number, 'years old!')\n",
        "    elif baby == 'Anku' and number == 10:\n",
        "      print(baby, 'is', number, '!')\n",
        "    elif baby == 'Polla' and number == 9:\n",
        "      print(baby, 'shona is now', number, '!')"
      ],
      "metadata": {
        "colab": {
          "base_uri": "https://localhost:8080/"
        },
        "id": "C389aTpWc7Ws",
        "outputId": "03eed72d-7657-44eb-fce4-c72af5a716bf"
      },
      "execution_count": 48,
      "outputs": [
        {
          "output_type": "stream",
          "name": "stdout",
          "text": [
            "Gugu is 15 years old!\n",
            "Anku is 10 !\n",
            "Polla shona is now 9 !\n"
          ]
        }
      ]
    },
    {
      "cell_type": "code",
      "source": [
        "cat = ['Gugu', 'Anku', 'Polla']\n",
        "age = [15, 10, 9]\n",
        "for baby in cat:\n",
        "  for number in age:\n",
        "    if baby == 'Gugu' and number == 15:\n",
        "      print(baby, 'is', number,'!')\n",
        "    elif baby == 'Anku' and number == 10:\n",
        "      print(baby, 'is', number,'!')\n",
        "    elif baby == 'Polla' and number == 9:\n",
        "      print(baby, 'is', number,'!')\n",
        "    else:\n",
        "      print(baby, \"isn't\", number)"
      ],
      "metadata": {
        "colab": {
          "base_uri": "https://localhost:8080/"
        },
        "id": "soIzvUeAjxEh",
        "outputId": "f7797502-80ff-46bc-bc37-a80a3e1ebf7a"
      },
      "execution_count": 55,
      "outputs": [
        {
          "output_type": "stream",
          "name": "stdout",
          "text": [
            "Gugu is 15 !\n",
            "Gugu isn't 10\n",
            "Gugu isn't 9\n",
            "Anku isn't 15\n",
            "Anku is 10 !\n",
            "Anku isn't 9\n",
            "Polla isn't 15\n",
            "Polla isn't 10\n",
            "Polla is 9 !\n"
          ]
        }
      ]
    },
    {
      "cell_type": "code",
      "source": [
        "box = []\n",
        "a = range(10, 100, 5)\n",
        "for i in a:\n",
        "  if i not in box and (i % 10) == 0:\n",
        "    box.append(i)\n",
        "\n",
        "print(box)\n",
        "\n",
        "new_box = []\n",
        "for i in a:\n",
        "  if i not in new_box and (i % 10) == 5:\n",
        "    new_box.append(i)\n",
        "\n",
        "print(new_box)"
      ],
      "metadata": {
        "colab": {
          "base_uri": "https://localhost:8080/"
        },
        "id": "dT936AQCks2D",
        "outputId": "a5b41c03-0a2a-4c86-d5a2-a5a12ede181d"
      },
      "execution_count": 96,
      "outputs": [
        {
          "output_type": "stream",
          "name": "stdout",
          "text": [
            "[10, 20, 30, 40, 50, 60, 70, 80, 90]\n",
            "[15, 25, 35, 45, 55, 65, 75, 85, 95]\n"
          ]
        }
      ]
    },
    {
      "cell_type": "code",
      "source": [
        "welcome = ['Hey! Nice to see you!', 'Hello!', 'Heyyy!, So good to see you again!']\n",
        "\n",
        "for item in welcome:\n",
        "  if (n := len(item)) > 10:                  #walrus operator\n",
        "    print(f'Too long {n} elements.')\n",
        "  else:\n",
        "    print(f'Perfect! Just {n} elements!')"
      ],
      "metadata": {
        "colab": {
          "base_uri": "https://localhost:8080/"
        },
        "id": "hBXXMWGQvEG3",
        "outputId": "7b4ec073-8229-41de-bebc-a8b940c532b9"
      },
      "execution_count": 102,
      "outputs": [
        {
          "output_type": "stream",
          "name": "stdout",
          "text": [
            "Too long 21 elements.\n",
            "Perfect! Just 6 elements!\n",
            "Too long 33 elements.\n"
          ]
        }
      ]
    }
  ]
}